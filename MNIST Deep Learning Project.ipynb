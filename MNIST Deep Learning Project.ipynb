{
 "cells": [
  {
   "cell_type": "markdown",
   "id": "8cc3608f",
   "metadata": {},
   "source": [
    "# Training a neural network with the MNIST database of 28x28 hand-written digits to read hand-written numbers\n",
    "---\n",
    "`tf.keras.utils.normalize(data, axis)` normalizes data in the tensor (multidimensional array) to make them between 0 and 1\n",
    "\n",
    "`relu` = Rectify Linear. It is an activation function\n",
    "\n",
    "In `sparse_categorical_crossentropy`, **`sparse`** could also be **`binary`** for cats vs. dogs for example"
   ]
  },
  {
   "cell_type": "code",
   "execution_count": 1,
   "id": "bf53fdf4",
   "metadata": {
    "scrolled": false
   },
   "outputs": [
    {
     "name": "stdout",
     "output_type": "stream",
     "text": [
      "Epoch 1/3\n",
      "1875/1875 [==============================] - 4s 2ms/step - loss: 0.2647 - accuracy: 0.9231\n",
      "Epoch 2/3\n",
      "1875/1875 [==============================] - 4s 2ms/step - loss: 0.1076 - accuracy: 0.9668\n",
      "Epoch 3/3\n",
      "1875/1875 [==============================] - 4s 2ms/step - loss: 0.0738 - accuracy: 0.9775\n"
     ]
    },
    {
     "data": {
      "text/plain": [
       "<keras.callbacks.History at 0x141b8957e20>"
      ]
     },
     "execution_count": 1,
     "metadata": {},
     "output_type": "execute_result"
    }
   ],
   "source": [
    "import tensorflow as tf\n",
    "\n",
    "import logging, sys\n",
    "logging.disable(sys.maxsize) # Hide INFO messages\n",
    "\n",
    "mnist = tf.keras.datasets.mnist\n",
    "\n",
    "(x_train, y_train), (x_test, y_test) = mnist.load_data() # Loads data into a new tensor (multidimensional array)\n",
    "\n",
    "x_train = tf.keras.utils.normalize(x_train, axis=1) # Normalizes data and scales from 0 to 1\n",
    "x_test = tf.keras.utils.normalize(x_test, axis=1)\n",
    "\n",
    "model = tf.keras.models.Sequential()\n",
    "model.add(tf.keras.layers.Flatten()) # Add input layer (and flatten)\n",
    "\n",
    "model.add(tf.keras.layers.Dense(128, activation=tf.nn.relu)) # Add first hidden layer\n",
    "model.add(tf.keras.layers.Dense(128, activation=tf.nn.relu)) # Add second hidden layer\n",
    "\n",
    "model.add(tf.keras.layers.Dense(10, activation=tf.nn.softmax)) # Add output layer. Softmax activation function not relu\n",
    "\n",
    "model.compile(optimizer='adam',                      # Use the 'adam' optimizer. Default go-to optimizer in Keras\n",
    "             loss='sparse_categorical_crossentropy', # NN's don't maximaze accuracy, they minimize loss\n",
    "             metrics=['accuracy'])                   # Track accuracy\n",
    "\n",
    "model.fit(x_train, y_train, epochs=3) "
   ]
  },
  {
   "cell_type": "markdown",
   "id": "48f054c6",
   "metadata": {},
   "source": [
    "### As we can see after running, the network identifies hand-written digits with approximately 97% accuracy.\n",
    "---\n",
    "So, did the neural network really generalize, learn patterns, and learn the attributes of hand-written digits? Or did it simply memorize images within the sample?\n",
    "\n",
    "`model.evaulate(x_test, y_test)` evaluates the network ***out of sample***. We can conclude that the network does successfully identify foreign images, but with a slightly lower accuracy and slightly higher loss.\n",
    "\n",
    "A high delta between ***in sample*** and ***out of sample*** evaulation suggests the network is *\"Over Fitting\"*.\n"
   ]
  },
  {
   "cell_type": "code",
   "execution_count": 2,
   "id": "9e277cd2",
   "metadata": {
    "scrolled": true
   },
   "outputs": [
    {
     "name": "stdout",
     "output_type": "stream",
     "text": [
      "313/313 [==============================] - 1s 2ms/step - loss: 0.1021 - accuracy: 0.9698\n",
      "Validation loss:  0.10213526338338852 ( 10.21 %)\n",
      "Validation accuracy:  0.9697999954223633 ( 96.98 %)\n"
     ]
    }
   ],
   "source": [
    "val_loss, val_acc = model.evaluate(x_test, y_test) # validation loss and validation accuracy\n",
    "print(\"Validation loss: \", val_loss, '(', round(val_loss*100, 2), '%)')\n",
    "print(\"Validation accuracy: \", val_acc, '(', round(val_acc*100, 2), '%)')"
   ]
  },
  {
   "cell_type": "markdown",
   "id": "cee5ccc2",
   "metadata": {},
   "source": [
    "### Saving and loading models:\n",
    "\n",
    "\n",
    "`model.save('owens_digit_recognizer.model')`\\\n",
    "`new_model = tf.keras.models.load_model('owens_digit_recognizer.model')`"
   ]
  }
 ],
 "metadata": {
  "kernelspec": {
   "display_name": "Python 3 (ipykernel)",
   "language": "python",
   "name": "python3"
  },
  "language_info": {
   "codemirror_mode": {
    "name": "ipython",
    "version": 3
   },
   "file_extension": ".py",
   "mimetype": "text/x-python",
   "name": "python",
   "nbconvert_exporter": "python",
   "pygments_lexer": "ipython3",
   "version": "3.10.13"
  }
 },
 "nbformat": 4,
 "nbformat_minor": 5
}
